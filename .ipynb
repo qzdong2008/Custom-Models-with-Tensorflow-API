{
  "cells": [
    {
      "cell_type": "markdown",
      "metadata": {
        "id": "view-in-github",
        "colab_type": "text"
      },
      "source": [
        "<a href=\"https://colab.research.google.com/github/qzdong2008/Machine-Learning/blob/main/.ipynb\" target=\"_parent\"><img src=\"https://colab.research.google.com/assets/colab-badge.svg\" alt=\"Open In Colab\"/></a>"
      ]
    },
    {
      "cell_type": "markdown",
      "metadata": {
        "id": "ZL_6GK8qX35J"
      },
      "source": [
        "\n",
        "\n",
        "# Week 1: Multiple Output Models using the Keras Functional API\n",
        "\n",
        "Welcome to the first programming assignment of the course! Your task will be to use the Keras functional API to train a model to predict two outputs. For this lab, you will use the **[Wine Quality Dataset](https://archive.ics.uci.edu/ml/datasets/Wine+Quality)** from the **UCI machine learning repository**. It has separate datasets for red wine and white wine.\n",
        "\n",
        "Normally, the wines are classified into one of the quality ratings specified in the attributes. In this exercise, you will combine the two datasets to predict the wine quality and whether the wine is red or white solely from the attributes. \n",
        "\n",
        "You will model wine quality estimations as a regression problem and wine type detection as a binary classification problem.\n",
        "\n",
        "#### Please complete sections that are marked **(TODO)**"
      ]
    },
    {
      "cell_type": "markdown",
      "metadata": {
        "id": "obdcD6urYBY9"
      },
      "source": [
        "## Imports"
      ]
    },
    {
      "cell_type": "code",
      "execution_count": null,
      "metadata": {
        "id": "t8N3pcTQ5oQI"
      },
      "outputs": [],
      "source": [
        "import tensorflow as tf\n",
        "from tensorflow.keras.models import Model\n",
        "from tensorflow.keras.layers import Dense, Input\n",
        "\n",
        "import numpy as np\n",
        "import matplotlib.pyplot as plt\n",
        "import pandas as pd\n",
        "from sklearn.model_selection import train_test_split\n",
        "from sklearn.metrics import confusion_matrix\n",
        "import itertools\n",
        "\n",
        "import utils"
      ]
    },
    {
      "cell_type": "markdown",
      "metadata": {
        "id": "gQMERzWQYpgm"
      },
      "source": [
        "## Load Dataset\n",
        "\n",
        "\n",
        "You will now load the dataset from the [UCI Machine Learning Repository](https://archive.ics.uci.edu/ml/index.php) which are already saved in your workspace.\n",
        "\n",
        "### Pre-process the white wine dataset (TODO)\n",
        "You will add a new column named `is_red` in your dataframe to indicate if the wine is white or red. \n",
        "- In the white wine dataset, you will fill the column `is_red` with  zeros (0)."
      ]
    },
    {
      "cell_type": "code",
      "execution_count": null,
      "metadata": {
        "deletable": false,
        "id": "2qYAjKXCd4RH",
        "nbgrader": {
          "cell_type": "code",
          "checksum": "325ea195519b7035934c95bb529a062c",
          "grade": false,
          "grade_id": "cell-e5bfa0f152d9a21f",
          "locked": false,
          "schema_version": 3,
          "solution": true,
          "task": false
        }
      },
      "outputs": [],
      "source": [
        "# Please uncomment all lines in this cell and replace those marked with `# YOUR CODE HERE`.\n",
        "# You can select all lines in this code cell with Ctrl+A (Windows/Linux) or Cmd+A (Mac), then press Ctrl+/ (Windows/Linux) or Cmd+/ (Mac) to uncomment.\n",
        "\n",
        "\n",
        "\n",
        "# URL of the white wine dataset\n",
        "URI = './winequality-white.csv'\n",
        "\n",
        "# load the dataset from the URL\n",
        "white_df = pd.read_csv(URI, sep=\";\")\n",
        "\n",
        "# fill the `is_red` column with zeros.\n",
        "white_df[\"is_red\"] = np.zeros(white_df.shape[0]).astype(\"int\")\n",
        "\n",
        "# keep only the first of duplicate items\n",
        "white_df = white_df.drop_duplicates(keep='first')\n"
      ]
    },
    {
      "cell_type": "code",
      "execution_count": null,
      "metadata": {
        "deletable": false,
        "editable": false,
        "nbgrader": {
          "cell_type": "code",
          "checksum": "defe38d6ec58fd31cd67b89e46c4373f",
          "grade": true,
          "grade_id": "cell-30575e713b55fc51",
          "locked": true,
          "points": 1,
          "schema_version": 3,
          "solution": false,
          "task": false
        },
        "id": "bA2MXon1w6Se",
        "outputId": "1a02c2c3-390e-4b46-fd05-b7e9cc29bfe2"
      },
      "outputs": [
        {
          "name": "stdout",
          "output_type": "stream",
          "text": [
            "\u001b[92m All public tests passed\n"
          ]
        }
      ],
      "source": [
        "# You can click `File -> Open` in the menu above and open the `utils.py` file \n",
        "# in case you want to inspect the unit tests being used for each graded function.\n",
        "\n",
        "utils.test_white_df(white_df)\n"
      ]
    },
    {
      "cell_type": "code",
      "execution_count": null,
      "metadata": {
        "id": "OQHK0ohBQRCk",
        "outputId": "800952ab-9d28-4152-9312-0a5856eb1f35"
      },
      "outputs": [
        {
          "name": "stdout",
          "output_type": "stream",
          "text": [
            "8.8\n",
            "9.1\n"
          ]
        }
      ],
      "source": [
        "print(white_df.alcohol[0])\n",
        "print(white_df.alcohol[100])\n",
        "\n",
        "# EXPECTED OUTPUT\n",
        "# 8.8\n",
        "# 9.1"
      ]
    },
    {
      "cell_type": "markdown",
      "metadata": {
        "id": "sJRvR621w6Sf"
      },
      "source": [
        "### Pre-process the red wine dataset (TODO)\n",
        "- In the red wine dataset, you will fill in the column `is_red` with ones (1)."
      ]
    },
    {
      "cell_type": "code",
      "execution_count": null,
      "metadata": {
        "deletable": false,
        "id": "8y3QxKwBed8v",
        "nbgrader": {
          "cell_type": "code",
          "checksum": "12e0963d15be33b01b4e6ebc8945e51e",
          "grade": false,
          "grade_id": "cell-e47a40f306593274",
          "locked": false,
          "schema_version": 3,
          "solution": true,
          "task": false
        }
      },
      "outputs": [],
      "source": [
        "# Please uncomment all lines in this cell and replace those marked with `# YOUR CODE HERE`.\n",
        "# You can select all lines in this code cell with Ctrl+A (Windows/Linux) or Cmd+A (Mac), then press Ctrl+/ (Windows/Linux) or Cmd+/ (Mac) to uncomment.\n",
        "\n",
        "\n",
        "\n",
        "# URL of the red wine dataset\n",
        "URI = './winequality-red.csv'\n",
        "\n",
        "# load the dataset from the URL\n",
        "red_df = pd.read_csv(URI, sep=\";\")\n",
        "\n",
        "# fill the `is_red` column with ones.\n",
        "red_df[\"is_red\"] = np.ones(red_df.shape[0],dtype=int) \n",
        "\n",
        "# keep only the first of duplicate items\n",
        "red_df = red_df.drop_duplicates(keep='first')\n"
      ]
    },
    {
      "cell_type": "code",
      "execution_count": null,
      "metadata": {
        "deletable": false,
        "editable": false,
        "nbgrader": {
          "cell_type": "code",
          "checksum": "d8e0c91b0fd668b63ba74a8f2f958b59",
          "grade": true,
          "grade_id": "cell-2a75937adcc0c25b",
          "locked": true,
          "points": 1,
          "schema_version": 3,
          "solution": false,
          "task": false
        },
        "id": "xEViRtJvw6Sh",
        "outputId": "b7de1e17-0707-49ce-c000-fe31ddce2d6d"
      },
      "outputs": [
        {
          "name": "stdout",
          "output_type": "stream",
          "text": [
            "\u001b[92m All public tests passed\n"
          ]
        }
      ],
      "source": [
        "utils.test_red_df(red_df)\n"
      ]
    },
    {
      "cell_type": "code",
      "execution_count": null,
      "metadata": {
        "id": "zsB3LUzNQpo_",
        "outputId": "ea1f3f7e-72db-42bd-dba5-0794e358e0af"
      },
      "outputs": [
        {
          "name": "stdout",
          "output_type": "stream",
          "text": [
            "9.4\n",
            "10.2\n"
          ]
        }
      ],
      "source": [
        "print(red_df.alcohol[0])\n",
        "print(red_df.alcohol[100])\n",
        "\n",
        "# EXPECTED OUTPUT\n",
        "# 9.4\n",
        "# 10.2"
      ]
    },
    {
      "cell_type": "markdown",
      "metadata": {
        "id": "2G8B-NYuM6-f"
      },
      "source": [
        "### Concatenate the datasets\n",
        "\n",
        "Next, concatenate the red and white wine dataframes."
      ]
    },
    {
      "cell_type": "code",
      "execution_count": null,
      "metadata": {
        "id": "YpQrOjJbfN3m"
      },
      "outputs": [],
      "source": [
        "df = pd.concat([red_df, white_df], ignore_index=True)"
      ]
    },
    {
      "cell_type": "code",
      "execution_count": null,
      "metadata": {
        "id": "Se2dTmThQyjb",
        "outputId": "2dfb8b28-9895-49a3-eb90-f40350be1f36"
      },
      "outputs": [
        {
          "name": "stdout",
          "output_type": "stream",
          "text": [
            "9.4\n",
            "9.5\n"
          ]
        }
      ],
      "source": [
        "print(df.alcohol[0])\n",
        "print(df.alcohol[100])\n",
        "\n",
        "# EXPECTED OUTPUT\n",
        "# 9.4\n",
        "# 9.5"
      ]
    },
    {
      "cell_type": "markdown",
      "metadata": {
        "id": "LcMqKW7bw6Sj"
      },
      "source": [
        "In a real-world scenario, you should shuffle the data. For this assignment however, **you are not** going to do that because the grader needs to test with deterministic data. If you want the code to do it **after** you've gotten your grade for this notebook, we left the commented line below for reference"
      ]
    },
    {
      "cell_type": "code",
      "execution_count": null,
      "metadata": {
        "id": "wx6y3rPpQv4k"
      },
      "outputs": [],
      "source": [
        "#df = df.iloc[np.random.permutation(len(df))]"
      ]
    },
    {
      "cell_type": "markdown",
      "metadata": {
        "id": "-EqIcbg5M_n1"
      },
      "source": [
        "This will chart the quality of the wines."
      ]
    },
    {
      "cell_type": "code",
      "execution_count": null,
      "metadata": {
        "id": "IsvK0-Sgy17C",
        "outputId": "97fd425d-30fe-40a6-8275-778a91d98c61"
      },
      "outputs": [
        {
          "data": {
            "image/png": "[encoded data removed]",
            "text/plain": [
              "<Figure size 432x288 with 1 Axes>"
            ]
          },
          "metadata": {
            "needs_background": "light"
          },
          "output_type": "display_data"
        }
      ],
      "source": [
        "df['quality'].hist(bins=20);"
      ]
    },
    {
      "cell_type": "markdown",
      "metadata": {
        "id": "Nut1rmYLzf-p"
      },
      "source": [
        "### Imbalanced data (TODO)\n",
        "You can see from the plot above that the wine quality dataset is imbalanced. \n",
        "- Since there are very few observations with quality equal to 3, 4, 8 and 9, you can drop these observations from your dataset. \n",
        "- You can do this by removing data belonging to all classes except those > 4 and < 8."
      ]
    },
    {
      "cell_type": "code",
      "execution_count": null,
      "metadata": {
        "deletable": false,
        "id": "doH9_-gnf3sz",
        "nbgrader": {
          "cell_type": "code",
          "checksum": "d9ba9fc3a3ca02ccc567be33652b80fe",
          "grade": false,
          "grade_id": "cell-6a3e9db696f6827b",
          "locked": false,
          "schema_version": 3,
          "solution": true,
          "task": false
        }
      },
      "outputs": [],
      "source": [
        "# Please uncomment all lines in this cell and replace those marked with `# YOUR CODE HERE`.\n",
        "# You can select all lines in this code cell with Ctrl+A (Windows/Linux) or Cmd+A (Mac), then press Ctrl+/ (Windows/Linux) or Cmd+/ (Mac) to uncomment.\n",
        "\n",
        "\n",
        "\n",
        "# get data with wine quality greater than 4 and less than 8\n",
        "df = df[(df['quality'] > 4) & (df['quality'] < 8)]\n",
        "\n",
        "# reset index and drop the old one\n",
        "df = df.reset_index(drop=True)"
      ]
    },
    {
      "cell_type": "code",
      "execution_count": null,
      "metadata": {
        "deletable": false,
        "editable": false,
        "nbgrader": {
          "cell_type": "code",
          "checksum": "281e1d86a4803560ed5892cd7eda4c01",
          "grade": true,
          "grade_id": "cell-aed3da719d4682c7",
          "locked": true,
          "points": 1,
          "schema_version": 3,
          "solution": false,
          "task": false
        },
        "id": "Wrl2dhnDw6Sk",
        "outputId": "ba8b0e01-d7db-43ac-dad3-c0d1d3350124"
      },
      "outputs": [
        {
          "name": "stdout",
          "output_type": "stream",
          "text": [
            "\u001b[92m All public tests passed\n"
          ]
        }
      ],
      "source": [
        "utils.test_df_drop(df)\n",
        "\n"
      ]
    },
    {
      "cell_type": "code",
      "execution_count": null,
      "metadata": {
        "id": "xNR1iAlMRPXO",
        "outputId": "387c8a26-7889-4e57-d11f-55df6c211bec"
      },
      "outputs": [
        {
          "name": "stdout",
          "output_type": "stream",
          "text": [
            "9.4\n",
            "10.9\n"
          ]
        }
      ],
      "source": [
        "print(df.alcohol[0])\n",
        "print(df.alcohol[100])\n",
        "\n",
        "# EXPECTED OUTPUT\n",
        "# 9.4\n",
        "# 10.9"
      ]
    },
    {
      "cell_type": "markdown",
      "metadata": {
        "id": "cwhuRpnVRTzG"
      },
      "source": [
        "You can plot again to see the new range of data and quality"
      ]
    },
    {
      "cell_type": "code",
      "execution_count": null,
      "metadata": {
        "id": "857ygzZiLgGg"
      },
      "outputs": [],
      "source": [
        "df['quality'].hist(bins=20);"
      ]
    },
    {
      "cell_type": "markdown",
      "metadata": {
        "id": "n3k0vqSsp84t"
      },
      "source": [
        "### Train Test Split (TODO)\n",
        "\n",
        "Next, you can split the datasets into training, test and validation datasets.\n",
        "- The data frame should be split 80:20 into `train` and `test` sets.\n",
        "- The resulting `train` should then be split 80:20 into `train` and `val` sets.\n",
        "- The `train_test_split` parameter `test_size` takes a float value that ranges between 0. and 1, and represents the proportion of the dataset that is allocated to the test set.  The rest of the data is allocated to the training set."
      ]
    },
    {
      "cell_type": "code",
      "execution_count": null,
      "metadata": {
        "deletable": false,
        "id": "PAVIf2-fgRVY",
        "nbgrader": {
          "cell_type": "code",
          "checksum": "7f5738f4fb51d65adc9a8acbdf2b9970",
          "grade": false,
          "grade_id": "cell-91946cadf745206b",
          "locked": false,
          "schema_version": 3,
          "solution": true,
          "task": false
        }
      },
      "outputs": [],
      "source": [
        "# Please uncomment all lines in this cell and replace those marked with `# YOUR CODE HERE`.\n",
        "# You can select all lines in this code cell with Ctrl+A (Windows/Linux) or Cmd+A (Mac), then press Ctrl+/ (Windows/Linux) or Cmd+/ (Mac) to uncomment.\n",
        "\n",
        "\n",
        "\n",
        "# Please do not change the random_state parameter. This is needed for grading.\n",
        "\n",
        "# split df into 80:20 train and test sets\n",
        "train, test = train_test_split(df, test_size=0.2, random_state = 1)\n",
        "                               \n",
        "# split train into 80:20 train and val sets\n",
        "train, val = train_test_split(train, test_size=0.2, random_state = 1)"
      ]
    },
    {
      "cell_type": "code",
      "execution_count": null,
      "metadata": {
        "deletable": false,
        "editable": false,
        "id": "57h9LcEzRWpk",
        "nbgrader": {
          "cell_type": "code",
          "checksum": "42adbe9e66efac7c7a5f8cd73ac92f22",
          "grade": true,
          "grade_id": "cell-64b8b38cd0b965f6",
          "locked": true,
          "points": 1,
          "schema_version": 3,
          "solution": false,
          "task": false
        },
        "outputId": "1bbdbbe4-a26f-47c8-b8cb-dfee00b08a1a"
      },
      "outputs": [
        {
          "name": "stdout",
          "output_type": "stream",
          "text": [
            "\u001b[92m All public tests passed\n"
          ]
        }
      ],
      "source": [
        "utils.test_data_sizes(train.size, test.size, val.size)\n",
        "\n"
      ]
    },
    {
      "cell_type": "markdown",
      "metadata": {
        "id": "RwTNu4KFqG-K"
      },
      "source": [
        "Here's where you can explore the training stats. You can pop the labels 'is_red' and 'quality' from the data as these will be used as the labels\n"
      ]
    },
    {
      "cell_type": "code",
      "execution_count": null,
      "metadata": {
        "id": "Y_afyhhHM6WQ"
      },
      "outputs": [],
      "source": [
        "train_stats = train.describe()\n",
        "train_stats.pop('is_red')\n",
        "train_stats.pop('quality')\n",
        "train_stats = train_stats.transpose()"
      ]
    },
    {
      "cell_type": "markdown",
      "metadata": {
        "id": "ahvbYm4fNqSt"
      },
      "source": [
        "Explore the training stats!"
      ]
    },
    {
      "cell_type": "code",
      "execution_count": null,
      "metadata": {
        "id": "n_gAtPjZ0otF",
        "outputId": "7aba3def-8453-4aae-80d5-11fe486ebad7"
      },
      "outputs": [
        {
          "data": {
            "text/html": [
              "<div>\n",
              "<style scoped>\n",
              "    .dataframe tbody tr th:only-of-type {\n",
              "        vertical-align: middle;\n",
              "    }\n",
              "\n",
              "    .dataframe tbody tr th {\n",
              "        vertical-align: top;\n",
              "    }\n",
              "\n",
              "    .dataframe thead th {\n",
              "        text-align: right;\n",
              "    }\n",
              "</style>\n",
              "<table border=\"1\" class=\"dataframe\">\n",
              "  <thead>\n",
              "    <tr style=\"text-align: right;\">\n",
              "      <th></th>\n",
              "      <th>count</th>\n",
              "      <th>mean</th>\n",
              "      <th>std</th>\n",
              "      <th>min</th>\n",
              "      <th>25%</th>\n",
              "      <th>50%</th>\n",
              "      <th>75%</th>\n",
              "      <th>max</th>\n",
              "    </tr>\n",
              "  </thead>\n",
              "  <tbody>\n",
              "    <tr>\n",
              "      <th>fixed acidity</th>\n",
              "      <td>3155.0</td>\n",
              "      <td>7.221616</td>\n",
              "      <td>1.325297</td>\n",
              "      <td>3.80000</td>\n",
              "      <td>6.40000</td>\n",
              "      <td>7.00000</td>\n",
              "      <td>7.7000</td>\n",
              "      <td>15.60000</td>\n",
              "    </tr>\n",
              "    <tr>\n",
              "      <th>volatile acidity</th>\n",
              "      <td>3155.0</td>\n",
              "      <td>0.338929</td>\n",
              "      <td>0.162476</td>\n",
              "      <td>0.08000</td>\n",
              "      <td>0.23000</td>\n",
              "      <td>0.29000</td>\n",
              "      <td>0.4000</td>\n",
              "      <td>1.24000</td>\n",
              "    </tr>\n",
              "    <tr>\n",
              "      <th>citric acid</th>\n",
              "      <td>3155.0</td>\n",
              "      <td>0.321569</td>\n",
              "      <td>0.147970</td>\n",
              "      <td>0.00000</td>\n",
              "      <td>0.25000</td>\n",
              "      <td>0.31000</td>\n",
              "      <td>0.4000</td>\n",
              "      <td>1.66000</td>\n",
              "    </tr>\n",
              "    <tr>\n",
              "      <th>residual sugar</th>\n",
              "      <td>3155.0</td>\n",
              "      <td>5.155911</td>\n",
              "      <td>4.639632</td>\n",
              "      <td>0.60000</td>\n",
              "      <td>1.80000</td>\n",
              "      <td>2.80000</td>\n",
              "      <td>7.6500</td>\n",
              "      <td>65.80000</td>\n",
              "    </tr>\n",
              "    <tr>\n",
              "      <th>chlorides</th>\n",
              "      <td>3155.0</td>\n",
              "      <td>0.056976</td>\n",
              "      <td>0.036802</td>\n",
              "      <td>0.01200</td>\n",
              "      <td>0.03800</td>\n",
              "      <td>0.04700</td>\n",
              "      <td>0.0660</td>\n",
              "      <td>0.61100</td>\n",
              "    </tr>\n",
              "    <tr>\n",
              "      <th>free sulfur dioxide</th>\n",
              "      <td>3155.0</td>\n",
              "      <td>30.388590</td>\n",
              "      <td>17.236784</td>\n",
              "      <td>1.00000</td>\n",
              "      <td>17.00000</td>\n",
              "      <td>28.00000</td>\n",
              "      <td>41.0000</td>\n",
              "      <td>131.00000</td>\n",
              "    </tr>\n",
              "    <tr>\n",
              "      <th>total sulfur dioxide</th>\n",
              "      <td>3155.0</td>\n",
              "      <td>115.062282</td>\n",
              "      <td>56.706617</td>\n",
              "      <td>6.00000</td>\n",
              "      <td>75.00000</td>\n",
              "      <td>117.00000</td>\n",
              "      <td>156.0000</td>\n",
              "      <td>344.00000</td>\n",
              "    </tr>\n",
              "    <tr>\n",
              "      <th>density</th>\n",
              "      <td>3155.0</td>\n",
              "      <td>0.994633</td>\n",
              "      <td>0.003005</td>\n",
              "      <td>0.98711</td>\n",
              "      <td>0.99232</td>\n",
              "      <td>0.99481</td>\n",
              "      <td>0.9968</td>\n",
              "      <td>1.03898</td>\n",
              "    </tr>\n",
              "    <tr>\n",
              "      <th>pH</th>\n",
              "      <td>3155.0</td>\n",
              "      <td>3.223201</td>\n",
              "      <td>0.161272</td>\n",
              "      <td>2.72000</td>\n",
              "      <td>3.11000</td>\n",
              "      <td>3.21000</td>\n",
              "      <td>3.3300</td>\n",
              "      <td>4.01000</td>\n",
              "    </tr>\n",
              "    <tr>\n",
              "      <th>sulphates</th>\n",
              "      <td>3155.0</td>\n",
              "      <td>0.534051</td>\n",
              "      <td>0.149149</td>\n",
              "      <td>0.22000</td>\n",
              "      <td>0.43000</td>\n",
              "      <td>0.51000</td>\n",
              "      <td>0.6000</td>\n",
              "      <td>1.95000</td>\n",
              "    </tr>\n",
              "    <tr>\n",
              "      <th>alcohol</th>\n",
              "      <td>3155.0</td>\n",
              "      <td>10.504466</td>\n",
              "      <td>1.154654</td>\n",
              "      <td>8.50000</td>\n",
              "      <td>9.50000</td>\n",
              "      <td>10.30000</td>\n",
              "      <td>11.3000</td>\n",
              "      <td>14.00000</td>\n",
              "    </tr>\n",
              "  </tbody>\n",
              "</table>\n",
              "</div>"
            ],
            "text/plain": [
              "                       count        mean        std      min       25%  \\\n",
              "fixed acidity         3155.0    7.221616   1.325297  3.80000   6.40000   \n",
              "volatile acidity      3155.0    0.338929   0.162476  0.08000   0.23000   \n",
              "citric acid           3155.0    0.321569   0.147970  0.00000   0.25000   \n",
              "residual sugar        3155.0    5.155911   4.639632  0.60000   1.80000   \n",
              "chlorides             3155.0    0.056976   0.036802  0.01200   0.03800   \n",
              "free sulfur dioxide   3155.0   30.388590  17.236784  1.00000  17.00000   \n",
              "total sulfur dioxide  3155.0  115.062282  56.706617  6.00000  75.00000   \n",
              "density               3155.0    0.994633   0.003005  0.98711   0.99232   \n",
              "pH                    3155.0    3.223201   0.161272  2.72000   3.11000   \n",
              "sulphates             3155.0    0.534051   0.149149  0.22000   0.43000   \n",
              "alcohol               3155.0   10.504466   1.154654  8.50000   9.50000   \n",
              "\n",
              "                            50%       75%        max  \n",
              "fixed acidity           7.00000    7.7000   15.60000  \n",
              "volatile acidity        0.29000    0.4000    1.24000  \n",
              "citric acid             0.31000    0.4000    1.66000  \n",
              "residual sugar          2.80000    7.6500   65.80000  \n",
              "chlorides               0.04700    0.0660    0.61100  \n",
              "free sulfur dioxide    28.00000   41.0000  131.00000  \n",
              "total sulfur dioxide  117.00000  156.0000  344.00000  \n",
              "density                 0.99481    0.9968    1.03898  \n",
              "pH                      3.21000    3.3300    4.01000  \n",
              "sulphates               0.51000    0.6000    1.95000  \n",
              "alcohol                10.30000   11.3000   14.00000  "
            ]
          },
          "execution_count": 27,
          "metadata": {},
          "output_type": "execute_result"
        }
      ],
      "source": [
        "train_stats"
      ]
    },
    {
      "cell_type": "markdown",
      "metadata": {
        "id": "bGPvt9jir_HC"
      },
      "source": [
        "### Get the labels (TODO)\n",
        "\n",
        "The features and labels are currently in the same dataframe.\n",
        "- You will want to store the label columns `is_red` and `quality` separately from the feature columns.  \n",
        "- The following function, `format_output`, gets these two columns from the dataframe (it's given to you).\n",
        "- `format_output` also formats the data into numpy arrays. \n",
        "- Please use the `format_output` and apply it to the `train`, `val` and `test` sets to get dataframes for the labels."
      ]
    },
    {
      "cell_type": "code",
      "execution_count": null,
      "metadata": {
        "id": "Z_fs14XQqZVP"
      },
      "outputs": [],
      "source": [
        "def format_output(data):\n",
        "    is_red = data.pop('is_red')\n",
        "    is_red = np.array(is_red)\n",
        "    quality = data.pop('quality')\n",
        "    quality = np.array(quality)\n",
        "    return (quality, is_red)"
      ]
    },
    {
      "cell_type": "code",
      "execution_count": null,
      "metadata": {
        "deletable": false,
        "id": "8L3ZZe1fQicm",
        "nbgrader": {
          "cell_type": "code",
          "checksum": "7a86809e54895a816434c48dc903f55d",
          "grade": false,
          "grade_id": "cell-5c30fa2c2a354b0f",
          "locked": false,
          "schema_version": 3,
          "solution": true,
          "task": false
        }
      },
      "outputs": [],
      "source": [
        "# Please uncomment all lines in this cell and replace those marked with `# YOUR CODE HERE`.\n",
        "# You can select all lines in this code cell with Ctrl+A (Windows/Linux) or Cmd+A (Mac), then press Ctrl+/ (Windows/Linux) or Cmd+/ (Mac) to uncomment.\n",
        "\n",
        "\n",
        "\n",
        "# format the output of the train set\n",
        "train_Y = format_output(train)\n",
        "\n",
        "# format the output of the val set\n",
        "val_Y = format_output(val)\n",
        "    \n",
        "# format the output of the test set\n",
        "test_Y = format_output(test) "
      ]
    },
    {
      "cell_type": "code",
      "execution_count": null,
      "metadata": {
        "deletable": false,
        "editable": false,
        "nbgrader": {
          "cell_type": "code",
          "checksum": "359cabbafaed14ec9bbc1e57a7b6f32c",
          "grade": true,
          "grade_id": "cell-4977d8befb80f56b",
          "locked": true,
          "points": 1,
          "schema_version": 3,
          "solution": false,
          "task": false
        },
        "id": "i_T4Gj1Uw6Sn",
        "outputId": "5b2f21ec-ba8e-4069-cf75-4ad643708882"
      },
      "outputs": [
        {
          "name": "stdout",
          "output_type": "stream",
          "text": [
            "\u001b[92m All public tests passed\n"
          ]
        }
      ],
      "source": [
        "utils.test_format_output(df, train_Y, val_Y, test_Y)"
      ]
    },
    {
      "cell_type": "markdown",
      "metadata": {
        "id": "7jzfn_dVw6Sn"
      },
      "source": [
        "Notice that after you get the labels, the `train`, `val` and `test` dataframes no longer contain the label columns, and contain just the feature columns.\n",
        "- This is because you used `.pop` in the `format_output` function."
      ]
    },
    {
      "cell_type": "code",
      "execution_count": null,
      "metadata": {
        "id": "QBZmFyDkw6So",
        "outputId": "db121002-6048-4223-f067-91bca986e26c"
      },
      "outputs": [
        {
          "data": {
            "text/html": [
              "<div>\n",
              "<style scoped>\n",
              "    .dataframe tbody tr th:only-of-type {\n",
              "        vertical-align: middle;\n",
              "    }\n",
              "\n",
              "    .dataframe tbody tr th {\n",
              "        vertical-align: top;\n",
              "    }\n",
              "\n",
              "    .dataframe thead th {\n",
              "        text-align: right;\n",
              "    }\n",
              "</style>\n",
              "<table border=\"1\" class=\"dataframe\">\n",
              "  <thead>\n",
              "    <tr style=\"text-align: right;\">\n",
              "      <th></th>\n",
              "      <th>fixed acidity</th>\n",
              "      <th>volatile acidity</th>\n",
              "      <th>citric acid</th>\n",
              "      <th>residual sugar</th>\n",
              "      <th>chlorides</th>\n",
              "      <th>free sulfur dioxide</th>\n",
              "      <th>total sulfur dioxide</th>\n",
              "      <th>density</th>\n",
              "      <th>pH</th>\n",
              "      <th>sulphates</th>\n",
              "      <th>alcohol</th>\n",
              "    </tr>\n",
              "  </thead>\n",
              "  <tbody>\n",
              "    <tr>\n",
              "      <th>225</th>\n",
              "      <td>7.5</td>\n",
              "      <td>0.65</td>\n",
              "      <td>0.18</td>\n",
              "      <td>7.0</td>\n",
              "      <td>0.088</td>\n",
              "      <td>27.0</td>\n",
              "      <td>94.0</td>\n",
              "      <td>0.99915</td>\n",
              "      <td>3.38</td>\n",
              "      <td>0.77</td>\n",
              "      <td>9.4</td>\n",
              "    </tr>\n",
              "    <tr>\n",
              "      <th>3557</th>\n",
              "      <td>6.3</td>\n",
              "      <td>0.27</td>\n",
              "      <td>0.29</td>\n",
              "      <td>12.2</td>\n",
              "      <td>0.044</td>\n",
              "      <td>59.0</td>\n",
              "      <td>196.0</td>\n",
              "      <td>0.99782</td>\n",
              "      <td>3.14</td>\n",
              "      <td>0.40</td>\n",
              "      <td>8.8</td>\n",
              "    </tr>\n",
              "    <tr>\n",
              "      <th>3825</th>\n",
              "      <td>8.8</td>\n",
              "      <td>0.27</td>\n",
              "      <td>0.25</td>\n",
              "      <td>5.0</td>\n",
              "      <td>0.024</td>\n",
              "      <td>52.0</td>\n",
              "      <td>99.0</td>\n",
              "      <td>0.99250</td>\n",
              "      <td>2.87</td>\n",
              "      <td>0.49</td>\n",
              "      <td>11.4</td>\n",
              "    </tr>\n",
              "    <tr>\n",
              "      <th>1740</th>\n",
              "      <td>6.4</td>\n",
              "      <td>0.45</td>\n",
              "      <td>0.07</td>\n",
              "      <td>1.1</td>\n",
              "      <td>0.030</td>\n",
              "      <td>10.0</td>\n",
              "      <td>131.0</td>\n",
              "      <td>0.99050</td>\n",
              "      <td>2.97</td>\n",
              "      <td>0.28</td>\n",
              "      <td>10.8</td>\n",
              "    </tr>\n",
              "    <tr>\n",
              "      <th>1221</th>\n",
              "      <td>7.2</td>\n",
              "      <td>0.53</td>\n",
              "      <td>0.13</td>\n",
              "      <td>2.0</td>\n",
              "      <td>0.058</td>\n",
              "      <td>18.0</td>\n",
              "      <td>22.0</td>\n",
              "      <td>0.99573</td>\n",
              "      <td>3.21</td>\n",
              "      <td>0.68</td>\n",
              "      <td>9.9</td>\n",
              "    </tr>\n",
              "  </tbody>\n",
              "</table>\n",
              "</div>"
            ],
            "text/plain": [
              "      fixed acidity  volatile acidity  citric acid  residual sugar  chlorides  \\\n",
              "225             7.5              0.65         0.18             7.0      0.088   \n",
              "3557            6.3              0.27         0.29            12.2      0.044   \n",
              "3825            8.8              0.27         0.25             5.0      0.024   \n",
              "1740            6.4              0.45         0.07             1.1      0.030   \n",
              "1221            7.2              0.53         0.13             2.0      0.058   \n",
              "\n",
              "      free sulfur dioxide  total sulfur dioxide  density    pH  sulphates  \\\n",
              "225                  27.0                  94.0  0.99915  3.38       0.77   \n",
              "3557                 59.0                 196.0  0.99782  3.14       0.40   \n",
              "3825                 52.0                  99.0  0.99250  2.87       0.49   \n",
              "1740                 10.0                 131.0  0.99050  2.97       0.28   \n",
              "1221                 18.0                  22.0  0.99573  3.21       0.68   \n",
              "\n",
              "      alcohol  \n",
              "225       9.4  \n",
              "3557      8.8  \n",
              "3825     11.4  \n",
              "1740     10.8  \n",
              "1221      9.9  "
            ]
          },
          "execution_count": 32,
          "metadata": {},
          "output_type": "execute_result"
        }
      ],
      "source": [
        "train.head()"
      ]
    },
    {
      "cell_type": "markdown",
      "metadata": {
        "id": "hEdbrruAsN1D"
      },
      "source": [
        "### Normalize the data (TODO)\n",
        "\n",
        "Next, you can normalize the data, x, using the formula:\n",
        "$$x_{norm} = \\frac{x - \\mu}{\\sigma}$$\n",
        "- The `norm` function is defined for you.\n",
        "- Please apply the `norm` function to normalize the dataframes that contains the feature columns of `train`, `val` and `test` sets."
      ]
    },
    {
      "cell_type": "code",
      "execution_count": null,
      "metadata": {
        "id": "WWiZPAHCLjUs"
      },
      "outputs": [],
      "source": [
        "def norm(x):\n",
        "    return (x - train_stats['mean']) / train_stats['std']"
      ]
    },
    {
      "cell_type": "code",
      "execution_count": null,
      "metadata": {
        "deletable": false,
        "id": "JEaOi2I2Lk69",
        "nbgrader": {
          "cell_type": "code",
          "checksum": "6bc0cdcb563d192f271067aa3373ff32",
          "grade": false,
          "grade_id": "cell-d8416d975c371095",
          "locked": false,
          "schema_version": 3,
          "solution": true,
          "task": false
        }
      },
      "outputs": [],
      "source": [
        "# Please uncomment all lines in this cell and replace those marked with `# YOUR CODE HERE`.\n",
        "# You can select all lines in this code cell with Ctrl+A (Windows/Linux) or Cmd+A (Mac), then press Ctrl+/ (Windows/Linux) or Cmd+/ (Mac) to uncomment.\n",
        "\n",
        "\n",
        "\n",
        "# normalize the train set\n",
        "norm_train_X = norm(train)\n",
        "    \n",
        "# normalize the val set\n",
        "norm_val_X = norm(val)\n",
        "    \n",
        "# normalize the test set\n",
        "norm_test_X = norm(test)"
      ]
    },
    {
      "cell_type": "code",
      "execution_count": null,
      "metadata": {
        "deletable": false,
        "editable": false,
        "nbgrader": {
          "cell_type": "code",
          "checksum": "4f567db45bf40191601780379cc100b8",
          "grade": true,
          "grade_id": "cell-97fad979d157529b",
          "locked": true,
          "points": 1,
          "schema_version": 3,
          "solution": false,
          "task": false
        },
        "id": "NpcHVchaw6So",
        "outputId": "d6ce9f1d-3b21-4a36-835f-0d4cb33fd297"
      },
      "outputs": [
        {
          "name": "stdout",
          "output_type": "stream",
          "text": [
            "\u001b[92m All public tests passed\n"
          ]
        }
      ],
      "source": [
        "utils.test_norm(norm_train_X, norm_val_X, norm_test_X, train, val, test)\n"
      ]
    },
    {
      "cell_type": "markdown",
      "metadata": {
        "id": "hzykDwQhsaPO"
      },
      "source": [
        "## Define the Model (TODO)\n",
        "\n",
        "Define the model using the functional API. The base model will be 2 `Dense` layers of 128 neurons each, and have the `'relu'` activation.\n",
        "- Check out the documentation for [tf.keras.layers.Dense](https://www.tensorflow.org/api_docs/python/tf/keras/layers/Dense)"
      ]
    },
    {
      "cell_type": "code",
      "execution_count": null,
      "metadata": {
        "deletable": false,
        "id": "Rhcns3oTFkM6",
        "nbgrader": {
          "cell_type": "code",
          "checksum": "74b031247e569526552bf13a034a1c07",
          "grade": false,
          "grade_id": "cell-73fceedad1fe351c",
          "locked": false,
          "schema_version": 3,
          "solution": true,
          "task": false
        }
      },
      "outputs": [],
      "source": [
        "# Please uncomment all lines in this cell and replace those marked with `# YOUR CODE HERE`.\n",
        "# You can select all lines in this code cell with Ctrl+A (Windows/Linux) or Cmd+A (Mac), then press Ctrl+/ (Windows/Linux) or Cmd+/ (Mac) to uncomment.\n",
        "\n",
        "\n",
        "\n",
        "def base_model(inputs):\n",
        "    \n",
        "    # connect a Dense layer with 128 neurons and a relu activation\n",
        "    x = Dense(128, activation='relu')(inputs)\n",
        "    \n",
        "    # connect another Dense layer with 128 neurons and a relu activation\n",
        "    x = Dense(128, activation='relu')(x)\n",
        "    return x\n",
        "  "
      ]
    },
    {
      "cell_type": "code",
      "execution_count": null,
      "metadata": {
        "deletable": false,
        "editable": false,
        "nbgrader": {
          "cell_type": "code",
          "checksum": "9255924b3def80f679616e4c851a43e1",
          "grade": true,
          "grade_id": "cell-54f742a133353d75",
          "locked": true,
          "points": 1,
          "schema_version": 3,
          "solution": false,
          "task": false
        },
        "id": "R84BUqNsw6Sp",
        "outputId": "aa384ba3-943c-40c1-a25d-d0d0bfc5cd08"
      },
      "outputs": [
        {
          "name": "stdout",
          "output_type": "stream",
          "text": [
            "\u001b[92m All public tests passed\n"
          ]
        }
      ],
      "source": [
        "utils.test_base_model(base_model)"
      ]
    },
    {
      "cell_type": "markdown",
      "metadata": {
        "id": "xem_fcVws6Kz"
      },
      "source": [
        "# Define output layers of the model (TODO)\n",
        "\n",
        "You will add output layers to the base model. \n",
        "- The model will need two outputs.\n",
        "\n",
        "One output layer will predict wine quality, which is a numeric value.\n",
        "- Define a `Dense` layer with 1 neuron.\n",
        "- Since this is a regression output, the activation can be left as its default value `None`.\n",
        "\n",
        "The other output layer will predict the wine type, which is either red `1` or not red `0` (white).\n",
        "- Define a `Dense` layer with 1 neuron.\n",
        "- Since there are two possible categories, you can use a sigmoid activation for binary classification.\n",
        "\n",
        "Define the `Model`\n",
        "- Define the `Model` object, and set the following parameters:\n",
        "  - `inputs`: pass in the inputs to the model as a list.\n",
        "  - `outputs`: pass in a list of the outputs that you just defined: wine quality, then wine type.\n",
        "  - **Note**: please list the wine quality before wine type in the outputs, as this will affect the calculated loss if you choose the other order."
      ]
    },
    {
      "cell_type": "code",
      "execution_count": null,
      "metadata": {
        "deletable": false,
        "id": "n5UGF8PMVLPt",
        "nbgrader": {
          "cell_type": "code",
          "checksum": "76d35b90d20cdcbb22986cd8211057de",
          "grade": false,
          "grade_id": "cell-19e285f482f021fb",
          "locked": false,
          "schema_version": 3,
          "solution": true,
          "task": false
        }
      },
      "outputs": [],
      "source": [
        "# Please uncomment all lines in this cell and replace those marked with `# YOUR CODE HERE`.\n",
        "# You can select all lines in this code cell with Ctrl+A (Windows/Linux) or Cmd+A (Mac), then press Ctrl+/ (Windows/Linux) or Cmd+/ (Mac) to uncomment.\n",
        "\n",
        "\n",
        "\n",
        "def final_model(inputs):\n",
        "    \n",
        "    # get the base model\n",
        "    x = base_model(inputs)\n",
        "\n",
        "    # connect the output Dense layer for regression\n",
        "    wine_quality = Dense(units='1', name='wine_quality')(x)\n",
        "\n",
        "    # connect the output Dense layer for classification. this will use a sigmoid activation.\n",
        "    wine_type = Dense(units='1', activation='sigmoid', name='wine_type')(x)\n",
        "\n",
        "    # define the model using the input and output layers\n",
        "    model = Model(inputs=inputs, outputs=[wine_quality,wine_type])\n",
        "\n",
        "    return model"
      ]
    },
    {
      "cell_type": "code",
      "execution_count": null,
      "metadata": {
        "deletable": false,
        "editable": false,
        "nbgrader": {
          "cell_type": "code",
          "checksum": "89cbf89d8ab5e2e59ecf7f63f517520a",
          "grade": true,
          "grade_id": "cell-40d050f855c817d1",
          "locked": true,
          "points": 1,
          "schema_version": 3,
          "solution": false,
          "task": false
        },
        "id": "q5PPpB2vw6Sp",
        "outputId": "1749f3de-550b-4225-ca3b-bc8e80105191"
      },
      "outputs": [
        {
          "name": "stdout",
          "output_type": "stream",
          "text": [
            "\u001b[92m All public tests passed\n"
          ]
        }
      ],
      "source": [
        "utils.test_final_model(final_model)"
      ]
    },
    {
      "cell_type": "markdown",
      "metadata": {
        "id": "5R0BMTsltZyu"
      },
      "source": [
        "## Compiling the Model\n",
        "\n",
        "Next, compile the model. When setting the loss parameter of `model.compile`, you're setting the loss for each of the two outputs (wine quality and wine type).\n",
        "\n",
        "To set more than one loss, use a dictionary of key-value pairs.\n",
        "- You can look at the docs for the losses [here](https://www.tensorflow.org/api_docs/python/tf/keras/losses#functions).\n",
        "    - **Note**: For the desired spelling, please look at the \"Functions\" section of the documentation and not the \"classes\" section on that same page.\n",
        "- wine_type: Since you will be performing binary classification on wine type, you should use the binary crossentropy loss function for it.  Please pass this in as a string.  \n",
        "  - **Hint**, this should be all lowercase.  In the documentation, you'll see this under the \"Functions\" section, not the \"Classes\" section.\n",
        "- wine_quality: since this is a regression output, use the mean squared error.  Please pass it in as a string, all lowercase.\n",
        "  - **Hint**: You may notice that there are two aliases for mean squared error.  Please use the shorter name.\n",
        "\n",
        "\n",
        "You will also set the metric for each of the two outputs.  Again, to set metrics for two or more outputs, use a dictionary with key value pairs.\n",
        "- The metrics documentation is linked [here](https://www.tensorflow.org/api_docs/python/tf/keras/metrics).\n",
        "- For the wine type, please set it to accuracy as a string, all lowercase.\n",
        "- For wine quality, please use the root mean squared error.  Instead of a string, you'll set it to an instance of the class [RootMeanSquaredError](https://www.tensorflow.org/api_docs/python/tf/keras/metrics/RootMeanSquaredError), which belongs to the tf.keras.metrics module.\n",
        "\n",
        "**Note**: If you see the error message \n",
        ">Exception: wine quality loss function is incorrect.\n",
        "\n",
        "- Please also check your other losses and metrics, as the error may be caused by the other three key-value pairs and not the wine quality loss."
      ]
    },
    {
      "cell_type": "code",
      "execution_count": null,
      "metadata": {
        "deletable": false,
        "id": "LK11duUbUjmh",
        "nbgrader": {
          "cell_type": "code",
          "checksum": "22f45067ca69eb2ccadb43874dbcc27b",
          "grade": false,
          "grade_id": "cell-81afdc4dcca51d5e",
          "locked": false,
          "schema_version": 3,
          "solution": true,
          "task": false
        }
      },
      "outputs": [],
      "source": [
        "# Please uncomment all lines in this cell and replace those marked with `# YOUR CODE HERE`.\n",
        "# You can select all lines in this code cell with Ctrl+A (Windows/Linux) or Cmd+A (Mac), then press Ctrl+/ (Windows/Linux) or Cmd+/ (Mac) to uncomment.\n",
        "\n",
        "\n",
        "\n",
        "inputs = tf.keras.layers.Input(shape=(11,))\n",
        "rms = tf.keras.optimizers.RMSprop(lr=0.0001)\n",
        "model = final_model(inputs)\n",
        "\n",
        "model.compile(optimizer=rms, \n",
        "              loss = {'wine_type' :'binary_crossentropy',\n",
        "                      'wine_quality' :'mse'\n",
        "                     },\n",
        "              metrics = {'wine_type' :'accuracy',\n",
        "                         'wine_quality': tf.keras.metrics.RootMeanSquaredError()\n",
        "                       }\n",
        "             )\n"
      ]
    },
    {
      "cell_type": "code",
      "execution_count": null,
      "metadata": {
        "deletable": false,
        "editable": false,
        "nbgrader": {
          "cell_type": "code",
          "checksum": "88e02238ea5e456ff65e835cc8158054",
          "grade": true,
          "grade_id": "cell-2eeeba02391c4632",
          "locked": true,
          "points": 1,
          "schema_version": 3,
          "solution": false,
          "task": false
        },
        "id": "Hvy97gpuw6Sq",
        "outputId": "1a674774-4e38-44d7-cce7-e50b514ce50b"
      },
      "outputs": [
        {
          "name": "stdout",
          "output_type": "stream",
          "text": [
            "\u001b[92m All public tests passed\n"
          ]
        }
      ],
      "source": [
        "utils.test_model_compile(model)"
      ]
    },
    {
      "cell_type": "markdown",
      "metadata": {
        "id": "90MpAMpWuKm-"
      },
      "source": [
        "## Training the Model (TODO)\n",
        "\n",
        "Fit the model to the training inputs and outputs. \n",
        "- Check the documentation for [model.fit](https://www.tensorflow.org/api_docs/python/tf/keras/Model#fit).\n",
        "- Remember to use the normalized training set as inputs. \n",
        "- For the validation data, please use the normalized validation set.\n",
        "\n",
        "**Important: Please do not increase the number of epochs below. This is to avoid the grader from timing out. You can increase it once you have submitted your work.**"
      ]
    },
    {
      "cell_type": "code",
      "execution_count": null,
      "metadata": {
        "deletable": false,
        "id": "_eiZkle4XwiY",
        "nbgrader": {
          "cell_type": "code",
          "checksum": "d1a4565296017a0611c6f2de675f96cf",
          "grade": false,
          "grade_id": "cell-0bb56262896f6680",
          "locked": false,
          "schema_version": 3,
          "solution": true,
          "task": false
        },
        "outputId": "9a0f23ae-9b3f-41a8-ad3e-4a04c2b91d1e"
      },
      "outputs": [
        {
          "name": "stdout",
          "output_type": "stream",
          "text": [
            "Train on 3155 samples, validate on 789 samples\n",
            "Epoch 1/40\n",
            "3155/3155 [==============================] - 1s 375us/sample - loss: 27.1726 - wine_quality_loss: 26.4806 - wine_type_loss: 0.6621 - wine_quality_root_mean_squared_error: 5.1488 - wine_type_accuracy: 0.6609 - val_loss: 19.9402 - val_wine_quality_loss: 19.3111 - val_wine_type_loss: 0.6375 - val_wine_quality_root_mean_squared_error: 4.3935 - val_wine_type_accuracy: 0.7883\n",
            "Epoch 2/40\n",
            "3155/3155 [==============================] - 0s 101us/sample - loss: 13.9415 - wine_quality_loss: 13.3082 - wine_type_loss: 0.6073 - wine_quality_root_mean_squared_error: 3.6516 - wine_type_accuracy: 0.8456 - val_loss: 8.5327 - val_wine_quality_loss: 7.9951 - val_wine_type_loss: 0.5732 - val_wine_quality_root_mean_squared_error: 2.8213 - val_wine_type_accuracy: 0.8872\n",
            "Epoch 3/40\n",
            "3155/3155 [==============================] - 0s 98us/sample - loss: 5.6733 - wine_quality_loss: 5.1363 - wine_type_loss: 0.5298 - wine_quality_root_mean_squared_error: 2.2679 - wine_type_accuracy: 0.8878 - val_loss: 3.5077 - val_wine_quality_loss: 3.0696 - val_wine_type_loss: 0.4845 - val_wine_quality_root_mean_squared_error: 1.7388 - val_wine_type_accuracy: 0.8783\n",
            "Epoch 4/40\n",
            "3155/3155 [==============================] - 0s 113us/sample - loss: 3.1264 - wine_quality_loss: 2.6925 - wine_type_loss: 0.4282 - wine_quality_root_mean_squared_error: 1.6425 - wine_type_accuracy: 0.8926 - val_loss: 2.6042 - val_wine_quality_loss: 2.2552 - val_wine_type_loss: 0.3803 - val_wine_quality_root_mean_squared_error: 1.4912 - val_wine_type_accuracy: 0.9049\n",
            "Epoch 5/40\n",
            "3155/3155 [==============================] - 0s 97us/sample - loss: 2.4547 - wine_quality_loss: 2.1351 - wine_type_loss: 0.3296 - wine_quality_root_mean_squared_error: 1.4578 - wine_type_accuracy: 0.9385 - val_loss: 2.1758 - val_wine_quality_loss: 1.9044 - val_wine_type_loss: 0.2907 - val_wine_quality_root_mean_squared_error: 1.3730 - val_wine_type_accuracy: 0.9569\n",
            "Epoch 6/40\n",
            "3155/3155 [==============================] - 0s 96us/sample - loss: 2.0572 - wine_quality_loss: 1.8057 - wine_type_loss: 0.2500 - wine_quality_root_mean_squared_error: 1.3442 - wine_type_accuracy: 0.9686 - val_loss: 1.8791 - val_wine_quality_loss: 1.6723 - val_wine_type_loss: 0.2198 - val_wine_quality_root_mean_squared_error: 1.2881 - val_wine_type_accuracy: 0.9785\n",
            "Epoch 7/40\n",
            "3155/3155 [==============================] - 0s 97us/sample - loss: 1.7885 - wine_quality_loss: 1.5977 - wine_type_loss: 0.1892 - wine_quality_root_mean_squared_error: 1.2645 - wine_type_accuracy: 0.9803 - val_loss: 1.6764 - val_wine_quality_loss: 1.5186 - val_wine_type_loss: 0.1669 - val_wine_quality_root_mean_squared_error: 1.2285 - val_wine_type_accuracy: 0.9886\n",
            "Epoch 8/40\n",
            "3155/3155 [==============================] - 0s 99us/sample - loss: 1.6060 - wine_quality_loss: 1.4603 - wine_type_loss: 0.1470 - wine_quality_root_mean_squared_error: 1.2080 - wine_type_accuracy: 0.9854 - val_loss: 1.5204 - val_wine_quality_loss: 1.3967 - val_wine_type_loss: 0.1307 - val_wine_quality_root_mean_squared_error: 1.1788 - val_wine_type_accuracy: 0.9911\n",
            "Epoch 9/40\n",
            "3155/3155 [==============================] - 0s 97us/sample - loss: 1.4612 - wine_quality_loss: 1.3405 - wine_type_loss: 0.1178 - wine_quality_root_mean_squared_error: 1.1591 - wine_type_accuracy: 0.9880 - val_loss: 1.4005 - val_wine_quality_loss: 1.2999 - val_wine_type_loss: 0.1053 - val_wine_quality_root_mean_squared_error: 1.1380 - val_wine_type_accuracy: 0.9911\n",
            "Epoch 10/40\n",
            "3155/3155 [==============================] - 0s 98us/sample - loss: 1.3533 - wine_quality_loss: 1.2547 - wine_type_loss: 0.0973 - wine_quality_root_mean_squared_error: 1.1206 - wine_type_accuracy: 0.9892 - val_loss: 1.3095 - val_wine_quality_loss: 1.2250 - val_wine_type_loss: 0.0881 - val_wine_quality_root_mean_squared_error: 1.1051 - val_wine_type_accuracy: 0.9911\n",
            "Epoch 11/40\n",
            "3155/3155 [==============================] - 0s 100us/sample - loss: 1.2574 - wine_quality_loss: 1.1733 - wine_type_loss: 0.0832 - wine_quality_root_mean_squared_error: 1.0836 - wine_type_accuracy: 0.9905 - val_loss: 1.2283 - val_wine_quality_loss: 1.1551 - val_wine_type_loss: 0.0755 - val_wine_quality_root_mean_squared_error: 1.0736 - val_wine_type_accuracy: 0.9924\n",
            "Epoch 12/40\n",
            "3155/3155 [==============================] - 0s 99us/sample - loss: 1.1747 - wine_quality_loss: 1.1066 - wine_type_loss: 0.0729 - wine_quality_root_mean_squared_error: 1.0497 - wine_type_accuracy: 0.9902 - val_loss: 1.1373 - val_wine_quality_loss: 1.0731 - val_wine_type_loss: 0.0661 - val_wine_quality_root_mean_squared_error: 1.0349 - val_wine_type_accuracy: 0.9924\n",
            "Epoch 13/40\n",
            "3155/3155 [==============================] - 0s 96us/sample - loss: 1.1046 - wine_quality_loss: 1.0385 - wine_type_loss: 0.0649 - wine_quality_root_mean_squared_error: 1.0196 - wine_type_accuracy: 0.9908 - val_loss: 1.0740 - val_wine_quality_loss: 1.0161 - val_wine_type_loss: 0.0590 - val_wine_quality_root_mean_squared_error: 1.0073 - val_wine_type_accuracy: 0.9924\n",
            "Epoch 14/40\n",
            "3155/3155 [==============================] - 0s 97us/sample - loss: 1.0348 - wine_quality_loss: 0.9766 - wine_type_loss: 0.0590 - wine_quality_root_mean_squared_error: 0.9878 - wine_type_accuracy: 0.9914 - val_loss: 1.0129 - val_wine_quality_loss: 0.9594 - val_wine_type_loss: 0.0537 - val_wine_quality_root_mean_squared_error: 0.9792 - val_wine_type_accuracy: 0.9924\n",
            "Epoch 15/40\n",
            "3155/3155 [==============================] - 0s 97us/sample - loss: 0.9784 - wine_quality_loss: 0.9239 - wine_type_loss: 0.0543 - wine_quality_root_mean_squared_error: 0.9613 - wine_type_accuracy: 0.9911 - val_loss: 0.9583 - val_wine_quality_loss: 0.9087 - val_wine_type_loss: 0.0498 - val_wine_quality_root_mean_squared_error: 0.9530 - val_wine_type_accuracy: 0.9924\n",
            "Epoch 16/40\n",
            "3155/3155 [==============================] - 0s 97us/sample - loss: 0.9172 - wine_quality_loss: 0.8649 - wine_type_loss: 0.0507 - wine_quality_root_mean_squared_error: 0.9308 - wine_type_accuracy: 0.9914 - val_loss: 0.9064 - val_wine_quality_loss: 0.8597 - val_wine_type_loss: 0.0466 - val_wine_quality_root_mean_squared_error: 0.9271 - val_wine_type_accuracy: 0.9937\n",
            "Epoch 17/40\n",
            "3155/3155 [==============================] - 0s 112us/sample - loss: 0.8719 - wine_quality_loss: 0.8244 - wine_type_loss: 0.0478 - wine_quality_root_mean_squared_error: 0.9077 - wine_type_accuracy: 0.9911 - val_loss: 0.8474 - val_wine_quality_loss: 0.8033 - val_wine_type_loss: 0.0442 - val_wine_quality_root_mean_squared_error: 0.8960 - val_wine_type_accuracy: 0.9937\n",
            "Epoch 18/40\n",
            "3155/3155 [==============================] - 0s 95us/sample - loss: 0.8246 - wine_quality_loss: 0.7775 - wine_type_loss: 0.0456 - wine_quality_root_mean_squared_error: 0.8826 - wine_type_accuracy: 0.9921 - val_loss: 0.8091 - val_wine_quality_loss: 0.7664 - val_wine_type_loss: 0.0423 - val_wine_quality_root_mean_squared_error: 0.8755 - val_wine_type_accuracy: 0.9949\n",
            "Epoch 19/40\n",
            "3155/3155 [==============================] - 0s 95us/sample - loss: 0.7842 - wine_quality_loss: 0.7415 - wine_type_loss: 0.0436 - wine_quality_root_mean_squared_error: 0.8606 - wine_type_accuracy: 0.9921 - val_loss: 0.7738 - val_wine_quality_loss: 0.7321 - val_wine_type_loss: 0.0406 - val_wine_quality_root_mean_squared_error: 0.8561 - val_wine_type_accuracy: 0.9949\n",
            "Epoch 20/40\n",
            "3155/3155 [==============================] - 0s 95us/sample - loss: 0.7428 - wine_quality_loss: 0.6990 - wine_type_loss: 0.0419 - wine_quality_root_mean_squared_error: 0.8371 - wine_type_accuracy: 0.9921 - val_loss: 0.7304 - val_wine_quality_loss: 0.6898 - val_wine_type_loss: 0.0392 - val_wine_quality_root_mean_squared_error: 0.8312 - val_wine_type_accuracy: 0.9949\n",
            "Epoch 21/40\n",
            "3155/3155 [==============================] - 0s 95us/sample - loss: 0.7077 - wine_quality_loss: 0.6660 - wine_type_loss: 0.0409 - wine_quality_root_mean_squared_error: 0.8168 - wine_type_accuracy: 0.9918 - val_loss: 0.6898 - val_wine_quality_loss: 0.6504 - val_wine_type_loss: 0.0383 - val_wine_quality_root_mean_squared_error: 0.8070 - val_wine_type_accuracy: 0.9937\n",
            "Epoch 22/40\n"
          ]
        },
        {
          "name": "stdout",
          "output_type": "stream",
          "text": [
            "3155/3155 [==============================] - 0s 94us/sample - loss: 0.6738 - wine_quality_loss: 0.6346 - wine_type_loss: 0.0393 - wine_quality_root_mean_squared_error: 0.7965 - wine_type_accuracy: 0.9924 - val_loss: 0.6614 - val_wine_quality_loss: 0.6229 - val_wine_type_loss: 0.0373 - val_wine_quality_root_mean_squared_error: 0.7898 - val_wine_type_accuracy: 0.9949\n",
            "Epoch 23/40\n",
            "3155/3155 [==============================] - 0s 97us/sample - loss: 0.6434 - wine_quality_loss: 0.6051 - wine_type_loss: 0.0382 - wine_quality_root_mean_squared_error: 0.7779 - wine_type_accuracy: 0.9924 - val_loss: 0.6288 - val_wine_quality_loss: 0.5912 - val_wine_type_loss: 0.0364 - val_wine_quality_root_mean_squared_error: 0.7695 - val_wine_type_accuracy: 0.9949\n",
            "Epoch 24/40\n",
            "3155/3155 [==============================] - 0s 93us/sample - loss: 0.6124 - wine_quality_loss: 0.5751 - wine_type_loss: 0.0372 - wine_quality_root_mean_squared_error: 0.7584 - wine_type_accuracy: 0.9924 - val_loss: 0.5968 - val_wine_quality_loss: 0.5593 - val_wine_type_loss: 0.0357 - val_wine_quality_root_mean_squared_error: 0.7488 - val_wine_type_accuracy: 0.9949\n",
            "Epoch 25/40\n",
            "3155/3155 [==============================] - 0s 94us/sample - loss: 0.5866 - wine_quality_loss: 0.5506 - wine_type_loss: 0.0364 - wine_quality_root_mean_squared_error: 0.7417 - wine_type_accuracy: 0.9924 - val_loss: 0.5823 - val_wine_quality_loss: 0.5454 - val_wine_type_loss: 0.0349 - val_wine_quality_root_mean_squared_error: 0.7396 - val_wine_type_accuracy: 0.9949\n",
            "Epoch 26/40\n",
            "3155/3155 [==============================] - 0s 95us/sample - loss: 0.5615 - wine_quality_loss: 0.5260 - wine_type_loss: 0.0355 - wine_quality_root_mean_squared_error: 0.7252 - wine_type_accuracy: 0.9927 - val_loss: 0.5502 - val_wine_quality_loss: 0.5141 - val_wine_type_loss: 0.0344 - val_wine_quality_root_mean_squared_error: 0.7180 - val_wine_type_accuracy: 0.9949\n",
            "Epoch 27/40\n",
            "3155/3155 [==============================] - 0s 77us/sample - loss: 0.5386 - wine_quality_loss: 0.5030 - wine_type_loss: 0.0349 - wine_quality_root_mean_squared_error: 0.7096 - wine_type_accuracy: 0.9927 - val_loss: 0.5298 - val_wine_quality_loss: 0.4943 - val_wine_type_loss: 0.0339 - val_wine_quality_root_mean_squared_error: 0.7039 - val_wine_type_accuracy: 0.9949\n",
            "Epoch 28/40\n",
            "3155/3155 [==============================] - 0s 81us/sample - loss: 0.5188 - wine_quality_loss: 0.4848 - wine_type_loss: 0.0346 - wine_quality_root_mean_squared_error: 0.6960 - wine_type_accuracy: 0.9927 - val_loss: 0.5100 - val_wine_quality_loss: 0.4746 - val_wine_type_loss: 0.0334 - val_wine_quality_root_mean_squared_error: 0.6900 - val_wine_type_accuracy: 0.9949\n",
            "Epoch 29/40\n",
            "3155/3155 [==============================] - 0s 93us/sample - loss: 0.4993 - wine_quality_loss: 0.4652 - wine_type_loss: 0.0337 - wine_quality_root_mean_squared_error: 0.6823 - wine_type_accuracy: 0.9927 - val_loss: 0.4880 - val_wine_quality_loss: 0.4535 - val_wine_type_loss: 0.0330 - val_wine_quality_root_mean_squared_error: 0.6743 - val_wine_type_accuracy: 0.9949\n",
            "Epoch 30/40\n",
            "3155/3155 [==============================] - 0s 95us/sample - loss: 0.4833 - wine_quality_loss: 0.4500 - wine_type_loss: 0.0331 - wine_quality_root_mean_squared_error: 0.6709 - wine_type_accuracy: 0.9930 - val_loss: 0.4792 - val_wine_quality_loss: 0.4451 - val_wine_type_loss: 0.0328 - val_wine_quality_root_mean_squared_error: 0.6679 - val_wine_type_accuracy: 0.9949\n",
            "Epoch 31/40\n",
            "3155/3155 [==============================] - 0s 93us/sample - loss: 0.4680 - wine_quality_loss: 0.4361 - wine_type_loss: 0.0326 - wine_quality_root_mean_squared_error: 0.6598 - wine_type_accuracy: 0.9930 - val_loss: 0.4583 - val_wine_quality_loss: 0.4244 - val_wine_type_loss: 0.0325 - val_wine_quality_root_mean_squared_error: 0.6523 - val_wine_type_accuracy: 0.9962\n",
            "Epoch 32/40\n",
            "3155/3155 [==============================] - 0s 94us/sample - loss: 0.4551 - wine_quality_loss: 0.4227 - wine_type_loss: 0.0321 - wine_quality_root_mean_squared_error: 0.6503 - wine_type_accuracy: 0.9927 - val_loss: 0.4470 - val_wine_quality_loss: 0.4130 - val_wine_type_loss: 0.0322 - val_wine_quality_root_mean_squared_error: 0.6438 - val_wine_type_accuracy: 0.9962\n",
            "Epoch 33/40\n",
            "3155/3155 [==============================] - 0s 94us/sample - loss: 0.4423 - wine_quality_loss: 0.4100 - wine_type_loss: 0.0319 - wine_quality_root_mean_squared_error: 0.6407 - wine_type_accuracy: 0.9930 - val_loss: 0.4381 - val_wine_quality_loss: 0.4047 - val_wine_type_loss: 0.0319 - val_wine_quality_root_mean_squared_error: 0.6371 - val_wine_type_accuracy: 0.9949\n",
            "Epoch 34/40\n",
            "3155/3155 [==============================] - 0s 93us/sample - loss: 0.4301 - wine_quality_loss: 0.3987 - wine_type_loss: 0.0313 - wine_quality_root_mean_squared_error: 0.6315 - wine_type_accuracy: 0.9940 - val_loss: 0.4346 - val_wine_quality_loss: 0.4016 - val_wine_type_loss: 0.0315 - val_wine_quality_root_mean_squared_error: 0.6346 - val_wine_type_accuracy: 0.9949\n",
            "Epoch 35/40\n",
            "3155/3155 [==============================] - 0s 94us/sample - loss: 0.4208 - wine_quality_loss: 0.3892 - wine_type_loss: 0.0310 - wine_quality_root_mean_squared_error: 0.6243 - wine_type_accuracy: 0.9940 - val_loss: 0.4249 - val_wine_quality_loss: 0.3917 - val_wine_type_loss: 0.0314 - val_wine_quality_root_mean_squared_error: 0.6270 - val_wine_type_accuracy: 0.9949\n",
            "Epoch 36/40\n",
            "3155/3155 [==============================] - 0s 94us/sample - loss: 0.4126 - wine_quality_loss: 0.3818 - wine_type_loss: 0.0306 - wine_quality_root_mean_squared_error: 0.6179 - wine_type_accuracy: 0.9943 - val_loss: 0.4121 - val_wine_quality_loss: 0.3793 - val_wine_type_loss: 0.0312 - val_wine_quality_root_mean_squared_error: 0.6168 - val_wine_type_accuracy: 0.9949\n",
            "Epoch 37/40\n",
            "3155/3155 [==============================] - 0s 93us/sample - loss: 0.4046 - wine_quality_loss: 0.3746 - wine_type_loss: 0.0305 - wine_quality_root_mean_squared_error: 0.6117 - wine_type_accuracy: 0.9943 - val_loss: 0.4005 - val_wine_quality_loss: 0.3679 - val_wine_type_loss: 0.0311 - val_wine_quality_root_mean_squared_error: 0.6074 - val_wine_type_accuracy: 0.9949\n",
            "Epoch 38/40\n",
            "3155/3155 [==============================] - 0s 90us/sample - loss: 0.3981 - wine_quality_loss: 0.3680 - wine_type_loss: 0.0300 - wine_quality_root_mean_squared_error: 0.6066 - wine_type_accuracy: 0.9946 - val_loss: 0.4007 - val_wine_quality_loss: 0.3680 - val_wine_type_loss: 0.0311 - val_wine_quality_root_mean_squared_error: 0.6076 - val_wine_type_accuracy: 0.9949\n",
            "Epoch 39/40\n",
            "3155/3155 [==============================] - 0s 77us/sample - loss: 0.3914 - wine_quality_loss: 0.3612 - wine_type_loss: 0.0298 - wine_quality_root_mean_squared_error: 0.6013 - wine_type_accuracy: 0.9946 - val_loss: 0.3957 - val_wine_quality_loss: 0.3635 - val_wine_type_loss: 0.0308 - val_wine_quality_root_mean_squared_error: 0.6037 - val_wine_type_accuracy: 0.9949\n",
            "Epoch 40/40\n",
            "3155/3155 [==============================] - 0s 93us/sample - loss: 0.3859 - wine_quality_loss: 0.3569 - wine_type_loss: 0.0295 - wine_quality_root_mean_squared_error: 0.5969 - wine_type_accuracy: 0.9946 - val_loss: 0.3838 - val_wine_quality_loss: 0.3517 - val_wine_type_loss: 0.0307 - val_wine_quality_root_mean_squared_error: 0.5940 - val_wine_type_accuracy: 0.9949\n"
          ]
        }
      ],
      "source": [
        "# Please uncomment all lines in this cell and replace those marked with `# YOUR CODE HERE`.\n",
        "# You can select all lines in this code cell with Ctrl+A (Windows/Linux) or Cmd+A (Mac), then press Ctrl+/ (Windows/Linux) or Cmd+/ (Mac) to uncomment.\n",
        "\n",
        "\n",
        "\n",
        "history = model.fit(norm_train_X, train_Y,\n",
        "                    epochs = 40, validation_data=(norm_val_X, val_Y))"
      ]
    },
    {
      "cell_type": "code",
      "execution_count": null,
      "metadata": {
        "deletable": false,
        "editable": false,
        "nbgrader": {
          "cell_type": "code",
          "checksum": "fadad8896eda9c8c2115970724b15508",
          "grade": true,
          "grade_id": "cell-eb4d5b41bef8f0ab",
          "locked": true,
          "points": 1,
          "schema_version": 3,
          "solution": false,
          "task": false
        },
        "id": "xn5r37tTw6Sr",
        "outputId": "06ee5885-26a7-4881-ea2b-e449194b348a"
      },
      "outputs": [
        {
          "name": "stdout",
          "output_type": "stream",
          "text": [
            "\u001b[92m All public tests passed\n"
          ]
        }
      ],
      "source": [
        "utils.test_history(history)"
      ]
    },
    {
      "cell_type": "code",
      "execution_count": null,
      "metadata": {
        "id": "CubF2J2gSf6q",
        "outputId": "48d56881-ddf0-4aa9-b400-1fe943dbeefa"
      },
      "outputs": [
        {
          "name": "stdout",
          "output_type": "stream",
          "text": [
            "789/789 [==============================] - 0s 22us/sample - loss: 0.3838 - wine_quality_loss: 0.3517 - wine_type_loss: 0.0307 - wine_quality_root_mean_squared_error: 0.5940 - wine_type_accuracy: 0.9949\n",
            "\n",
            "loss: 0.3838299447517129\n",
            "wine_quality_loss: 0.3516997992992401\n",
            "wine_type_loss: 0.030678585171699524\n",
            "wine_quality_rmse: 0.5939557552337646\n",
            "wine_type_accuracy: 0.9949302673339844\n"
          ]
        }
      ],
      "source": [
        "# Gather the training metrics\n",
        "loss, wine_quality_loss, wine_type_loss, wine_quality_rmse, wine_type_accuracy = model.evaluate(x=norm_val_X, y=val_Y)\n",
        "\n",
        "print()\n",
        "print(f'loss: {loss}')\n",
        "print(f'wine_quality_loss: {wine_quality_loss}')\n",
        "print(f'wine_type_loss: {wine_type_loss}')\n",
        "print(f'wine_quality_rmse: {wine_quality_rmse}')\n",
        "print(f'wine_type_accuracy: {wine_type_accuracy}')\n",
        "\n",
        "# EXPECTED VALUES\n",
        "# ~ 0.30 - 0.38\n",
        "# ~ 0.30 - 0.38\n",
        "# ~ 0.018 - 0.036\n",
        "# ~ 0.50 - 0.62\n",
        "# ~ 0.97 - 1.0\n",
        "\n",
        "# Example:\n",
        "#0.3657050132751465\n",
        "#0.3463745415210724\n",
        "#0.019330406561493874\n",
        "#0.5885359048843384\n",
        "#0.9974651336669922"
      ]
    },
    {
      "cell_type": "markdown",
      "metadata": {
        "id": "gPtTGAP4usnm"
      },
      "source": [
        "## Analyze the Model Performance\n",
        "\n",
        "Note that the model has two outputs. The output at index 0 is quality and index 1 is wine type\n",
        "\n",
        "So, round the quality predictions to the nearest integer."
      ]
    },
    {
      "cell_type": "code",
      "execution_count": null,
      "metadata": {
        "id": "tBq9PEeAaW-Y"
      },
      "outputs": [],
      "source": [
        "predictions = model.predict(norm_test_X)\n",
        "quality_pred = predictions[0]\n",
        "type_pred = predictions[1]"
      ]
    },
    {
      "cell_type": "code",
      "execution_count": null,
      "metadata": {
        "id": "YLhgTR4xTIxj",
        "outputId": "ef4a7a0b-2b1a-4075-aec8-cc95e7a5ae59"
      },
      "outputs": [
        {
          "name": "stdout",
          "output_type": "stream",
          "text": [
            "[5.427479]\n"
          ]
        }
      ],
      "source": [
        "print(quality_pred[0])\n",
        "\n",
        "# EXPECTED OUTPUT\n",
        "# 5.4 - 6.0"
      ]
    },
    {
      "cell_type": "code",
      "execution_count": null,
      "metadata": {
        "id": "MPi-eYfGTUXi",
        "outputId": "2544bede-20f0-4cd4-8d30-63e0d7a22e46"
      },
      "outputs": [
        {
          "name": "stdout",
          "output_type": "stream",
          "text": [
            "[0.00203168]\n",
            "[0.9998123]\n"
          ]
        }
      ],
      "source": [
        "print(type_pred[0])\n",
        "print(type_pred[944])\n",
        "\n",
        "# EXPECTED OUTPUT\n",
        "# A number close to zero\n",
        "# A number close to or equal to 1"
      ]
    },
    {
      "cell_type": "markdown",
      "metadata": {
        "id": "Kohk-9C6vt_s"
      },
      "source": [
        "### Plot Utilities\n",
        "\n",
        "We define a few utilities to visualize the model performance."
      ]
    },
    {
      "cell_type": "code",
      "execution_count": null,
      "metadata": {
        "id": "62gEOFUhn6aQ"
      },
      "outputs": [],
      "source": [
        "def plot_metrics(metric_name, title, ylim=5):\n",
        "    plt.title(title)\n",
        "    plt.ylim(0,ylim)\n",
        "    plt.plot(history.history[metric_name],color='blue',label=metric_name)\n",
        "    plt.plot(history.history['val_' + metric_name],color='green',label='val_' + metric_name)\n"
      ]
    },
    {
      "cell_type": "code",
      "execution_count": null,
      "metadata": {
        "id": "6rfgSx7uz5dj"
      },
      "outputs": [],
      "source": [
        "def plot_confusion_matrix(y_true, y_pred, title='', labels=[0,1]):\n",
        "    cm = confusion_matrix(y_true, y_pred)\n",
        "    fig = plt.figure()\n",
        "    ax = fig.add_subplot(111)\n",
        "    cax = ax.matshow(cm)\n",
        "    plt.title('Confusion matrix of the classifier')\n",
        "    fig.colorbar(cax)\n",
        "    ax.set_xticklabels([''] + labels)\n",
        "    ax.set_yticklabels([''] + labels)\n",
        "    plt.xlabel('Predicted')\n",
        "    plt.ylabel('True')\n",
        "    fmt = 'd'\n",
        "    thresh = cm.max() / 2.\n",
        "    for i, j in itertools.product(range(cm.shape[0]), range(cm.shape[1])):\n",
        "          plt.text(j, i, format(cm[i, j], fmt),\n",
        "                  horizontalalignment=\"center\",\n",
        "                  color=\"black\" if cm[i, j] > thresh else \"white\")\n",
        "    plt.show()"
      ]
    },
    {
      "cell_type": "code",
      "execution_count": null,
      "metadata": {
        "id": "dfVLIqi017Vf"
      },
      "outputs": [],
      "source": [
        "def plot_diff(y_true, y_pred, title = '' ):\n",
        "    plt.scatter(y_true, y_pred)\n",
        "    plt.title(title)\n",
        "    plt.xlabel('True Values')\n",
        "    plt.ylabel('Predictions')\n",
        "    plt.axis('equal')\n",
        "    plt.axis('square')\n",
        "    plt.plot([-100, 100], [-100, 100])\n",
        "    return plt"
      ]
    },
    {
      "cell_type": "markdown",
      "metadata": {
        "id": "8sd1jdFbwE0I"
      },
      "source": [
        "### Plots for Metrics"
      ]
    },
    {
      "cell_type": "code",
      "execution_count": null,
      "metadata": {
        "id": "f3MwZ5J1pOfj",
        "outputId": "a595f0b7-9499-40e8-97e3-3ae4448ba4b9"
      },
      "outputs": [
        {
          "data": {
            "image/png": "[encoded data removed]",
            "text/plain": [
              "<Figure size 432x288 with 1 Axes>"
            ]
          },
          "metadata": {
            "needs_background": "light"
          },
          "output_type": "display_data"
        }
      ],
      "source": [
        "plot_metrics('wine_quality_root_mean_squared_error', 'RMSE', ylim=2)"
      ]
    },
    {
      "cell_type": "code",
      "execution_count": null,
      "metadata": {
        "id": "QIAxEezCppnd",
        "outputId": "33cc46b6-6879-4b95-d202-fe66235d01f6"
      },
      "outputs": [
        {
          "data": {
            "image/png": "[encoded data removed]",
            "text/plain": [
              "<Figure size 432x288 with 1 Axes>"
            ]
          },
          "metadata": {
            "needs_background": "light"
          },
          "output_type": "display_data"
        }
      ],
      "source": [
        "plot_metrics('wine_type_loss', 'Wine Type Loss', ylim=0.2)"
      ]
    },
    {
      "cell_type": "markdown",
      "metadata": {
        "id": "uYV9AOAMwI9p"
      },
      "source": [
        "### Plots for Confusion Matrix\n",
        "\n",
        "Plot the confusion matrices for wine type. You can see that the model performs well for prediction of wine type from the confusion matrix and the loss metrics."
      ]
    },
    {
      "cell_type": "code",
      "execution_count": null,
      "metadata": {
        "id": "C3hvTYxIaf3n",
        "outputId": "dd25c8a2-4e3b-4dc5-895d-68d88e0ccc7b"
      },
      "outputs": [
        {
          "data": {
            "image/png": "[encoded data removed]",
            "text/plain": [
              "<Figure size 432x288 with 2 Axes>"
            ]
          },
          "metadata": {
            "needs_background": "light"
          },
          "output_type": "display_data"
        }
      ],
      "source": [
        "plot_confusion_matrix(test_Y[1], np.round(type_pred), title='Wine Type', labels = [0, 1])"
      ]
    },
    {
      "cell_type": "code",
      "execution_count": null,
      "metadata": {
        "id": "GW91ym8P2I5y",
        "outputId": "b4d08a09-e3e9-4bb1-8501-c4ec948bdf9a"
      },
      "outputs": [
        {
          "data": {
            "image/png": "[encoded data removed]",
            "text/plain": [
              "<Figure size 432x288 with 1 Axes>"
            ]
          },
          "metadata": {
            "needs_background": "light"
          },
          "output_type": "display_data"
        }
      ],
      "source": [
        "scatter_plot = plot_diff(test_Y[0], quality_pred, title='Type')"
      ]
    },
    {
      "cell_type": "code",
      "execution_count": null,
      "metadata": {
        "id": "Flwoj3R0w6St"
      },
      "outputs": [],
      "source": [
        ""
      ]
    }
  ],
  "metadata": {
    "colab": {
      "name": "C1W1_Assignment.ipynb",
      "provenance": [],
      "include_colab_link": true
    },
    "kernelspec": {
      "display_name": "Python 3",
      "language": "python",
      "name": "python3"
    },
    "language_info": {
      "codemirror_mode": {
        "name": "ipython",
        "version": 3
      },
      "file_extension": ".py",
      "mimetype": "text/x-python",
      "name": "python",
      "nbconvert_exporter": "python",
      "pygments_lexer": "ipython3",
      "version": "3.7.6"
    }
  },
  "nbformat": 4,
  "nbformat_minor": 0
}